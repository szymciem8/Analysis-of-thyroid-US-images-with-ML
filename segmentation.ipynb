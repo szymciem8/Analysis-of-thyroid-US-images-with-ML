{
 "cells": [
  {
   "cell_type": "markdown",
   "id": "bae29bab-9f80-4397-a920-593f8f9fe813",
   "metadata": {},
   "source": [
    "# Thyroid Segmentation"
   ]
  },
  {
   "cell_type": "markdown",
   "id": "f39eee4e-0385-4790-8f83-795f403fdb3e",
   "metadata": {},
   "source": [
    "## Tensorflow GPU Test"
   ]
  },
  {
   "cell_type": "code",
   "execution_count": 1,
   "id": "63a03c4e-d805-41f1-bdf3-9e3b09b6ee8a",
   "metadata": {},
   "outputs": [
    {
     "name": "stdout",
     "output_type": "stream",
     "text": [
      "[]\n"
     ]
    }
   ],
   "source": [
    "import tensorflow as tf\n",
    "print(tf.config.list_physical_devices('GPU'))"
   ]
  },
  {
   "cell_type": "code",
   "execution_count": 3,
   "id": "3124dc58-bb32-40d7-ae23-f1c172f4a15c",
   "metadata": {},
   "outputs": [],
   "source": [
    "import tensorflow_datasets as tfds"
   ]
  },
  {
   "cell_type": "code",
   "execution_count": 6,
   "id": "27ad6227-b9b1-4819-a9be-b76feb46ab61",
   "metadata": {},
   "outputs": [],
   "source": [
    "# from tensorflow_examples.models.pix2pix import pix2pix\n",
    "\n",
    "from IPython.display import clear_output\n",
    "import matplotlib.pyplot as plt"
   ]
  },
  {
   "cell_type": "code",
   "execution_count": 7,
   "id": "14374788-8485-4106-a2f2-9a87ed6fe6ae",
   "metadata": {},
   "outputs": [
    {
     "name": "stdout",
     "output_type": "stream",
     "text": [
      "\u001b[1mDownloading and preparing dataset Unknown size (download: Unknown size, generated: Unknown size, total: Unknown size) to /home/sciemala/tensorflow_datasets/oxford_iiit_pet/3.2.0...\u001b[0m\n"
     ]
    },
    {
     "data": {
      "application/vnd.jupyter.widget-view+json": {
       "model_id": "e8150d355c56489eaf5a24b78f243cf9",
       "version_major": 2,
       "version_minor": 0
      },
      "text/plain": [
       "Dl Completed...: 0 url [00:00, ? url/s]"
      ]
     },
     "metadata": {},
     "output_type": "display_data"
    },
    {
     "data": {
      "application/vnd.jupyter.widget-view+json": {
       "model_id": "1d30addbb04b4b91ab79dc5283cdc297",
       "version_major": 2,
       "version_minor": 0
      },
      "text/plain": [
       "Dl Size...: 0 MiB [00:00, ? MiB/s]"
      ]
     },
     "metadata": {},
     "output_type": "display_data"
    },
    {
     "data": {
      "application/vnd.jupyter.widget-view+json": {
       "model_id": "cff1d8f5c0ca4b76bb9595ac5158cede",
       "version_major": 2,
       "version_minor": 0
      },
      "text/plain": [
       "Extraction completed...: 0 file [00:00, ? file/s]"
      ]
     },
     "metadata": {},
     "output_type": "display_data"
    },
    {
     "data": {
      "application/vnd.jupyter.widget-view+json": {
       "model_id": "",
       "version_major": 2,
       "version_minor": 0
      },
      "text/plain": [
       "Generating splits...:   0%|          | 0/2 [00:00<?, ? splits/s]"
      ]
     },
     "metadata": {},
     "output_type": "display_data"
    },
    {
     "data": {
      "application/vnd.jupyter.widget-view+json": {
       "model_id": "",
       "version_major": 2,
       "version_minor": 0
      },
      "text/plain": [
       "Generating train examples...: 0 examples [00:00, ? examples/s]"
      ]
     },
     "metadata": {},
     "output_type": "display_data"
    },
    {
     "data": {
      "application/vnd.jupyter.widget-view+json": {
       "model_id": "",
       "version_major": 2,
       "version_minor": 0
      },
      "text/plain": [
       "Shuffling /home/sciemala/tensorflow_datasets/oxford_iiit_pet/3.2.0.incompleteX5NAFT/oxford_iiit_pet-train.tfre…"
      ]
     },
     "metadata": {},
     "output_type": "display_data"
    },
    {
     "data": {
      "application/vnd.jupyter.widget-view+json": {
       "model_id": "",
       "version_major": 2,
       "version_minor": 0
      },
      "text/plain": [
       "Generating test examples...: 0 examples [00:00, ? examples/s]"
      ]
     },
     "metadata": {},
     "output_type": "display_data"
    },
    {
     "data": {
      "application/vnd.jupyter.widget-view+json": {
       "model_id": "",
       "version_major": 2,
       "version_minor": 0
      },
      "text/plain": [
       "Shuffling /home/sciemala/tensorflow_datasets/oxford_iiit_pet/3.2.0.incompleteX5NAFT/oxford_iiit_pet-test.tfrec…"
      ]
     },
     "metadata": {},
     "output_type": "display_data"
    },
    {
     "name": "stdout",
     "output_type": "stream",
     "text": [
      "\u001b[1mDataset oxford_iiit_pet downloaded and prepared to /home/sciemala/tensorflow_datasets/oxford_iiit_pet/3.2.0. Subsequent calls will reuse this data.\u001b[0m\n"
     ]
    }
   ],
   "source": [
    "dataset, info = tfds.load('oxford_iiit_pet:3.*.*', with_info=True)"
   ]
  },
  {
   "cell_type": "code",
   "execution_count": 8,
   "id": "d6c8b91a-9074-4e0a-9c49-eaa5a8078f5c",
   "metadata": {},
   "outputs": [],
   "source": [
    "def normalize(input_image, input_mask):\n",
    "  input_image = tf.cast(input_image, tf.float32) / 255.0\n",
    "  input_mask -= 1\n",
    "  return input_image, input_mask"
   ]
  },
  {
   "cell_type": "code",
   "execution_count": 9,
   "id": "a251dfb0-c756-4b4b-9c07-bcd1bb55f1c0",
   "metadata": {},
   "outputs": [],
   "source": [
    "def load_image(datapoint):\n",
    "  input_image = tf.image.resize(datapoint['image'], (128, 128))\n",
    "  input_mask = tf.image.resize(datapoint['segmentation_mask'], (128, 128))\n",
    "\n",
    "  input_image, input_mask = normalize(input_image, input_mask)\n",
    "\n",
    "  return input_image, input_mask"
   ]
  },
  {
   "cell_type": "code",
   "execution_count": 10,
   "id": "7288cbb7-a48a-4f0d-9916-3bda182b2cc6",
   "metadata": {},
   "outputs": [],
   "source": [
    "TRAIN_LENGTH = info.splits['train'].num_examples\n",
    "BATCH_SIZE = 64\n",
    "BUFFER_SIZE = 1000\n",
    "STEPS_PER_EPOCH = TRAIN_LENGTH // BATCH_SIZE"
   ]
  },
  {
   "cell_type": "markdown",
   "id": "058ebbe7-7bfe-4938-ae44-f2fa005739fa",
   "metadata": {},
   "source": [
    "## 2. Create Tensorflow Datasetimport glob"
   ]
  },
  {
   "cell_type": "code",
   "execution_count": 5,
   "id": "f9de6317-b7bb-4615-95b3-05afc787d504",
   "metadata": {},
   "outputs": [],
   "source": [
    "import glob\n",
    "import numpy as np"
   ]
  },
  {
   "cell_type": "code",
   "execution_count": 15,
   "id": "fff636c2-8818-44ea-9c2c-c8be279922c4",
   "metadata": {},
   "outputs": [],
   "source": [
    "# Set the directory you want to list files from\n",
    "directory = 'cut_dataset'\n",
    "\n",
    "# Use the glob module to create a list of file paths\n",
    "images_pr_paths = sorted(glob.glob(directory + '/data_output' + '**/*', recursive=True))\n",
    "contoures_pr_paths = sorted(glob.glob(directory + '/contures' + '**/*', recursive=True))"
   ]
  },
  {
   "cell_type": "code",
   "execution_count": 14,
   "id": "366af96d-0108-4621-871d-727535aa66a1",
   "metadata": {},
   "outputs": [
    {
     "data": {
      "text/plain": [
       "[]"
      ]
     },
     "execution_count": 14,
     "metadata": {},
     "output_type": "execute_result"
    }
   ],
   "source": [
    "images_pr_paths"
   ]
  },
  {
   "cell_type": "code",
   "execution_count": 9,
   "id": "6c29979e-53fd-46b4-8a65-15d164b5d7bf",
   "metadata": {},
   "outputs": [],
   "source": [
    "images = np.array([ nrrd.read(path)[0] for path in images_pr_paths ]) / 255\n",
    "masks = np.array([ nrrd.read(path)[0] for path in contoures_pr_paths ]) / 255"
   ]
  },
  {
   "cell_type": "code",
   "execution_count": 10,
   "id": "b23df1e6-1573-49fe-8e17-eeed6d699e4e",
   "metadata": {},
   "outputs": [
    {
     "data": {
      "text/plain": [
       "(0,)"
      ]
     },
     "execution_count": 10,
     "metadata": {},
     "output_type": "execute_result"
    }
   ],
   "source": [
    "images.shape"
   ]
  }
 ],
 "metadata": {
  "kernelspec": {
   "display_name": "Python 3",
   "language": "python",
   "name": "python3"
  },
  "language_info": {
   "codemirror_mode": {
    "name": "ipython",
    "version": 3
   },
   "file_extension": ".py",
   "mimetype": "text/x-python",
   "name": "python",
   "nbconvert_exporter": "python",
   "pygments_lexer": "ipython3",
   "version": "3.6.8"
  }
 },
 "nbformat": 4,
 "nbformat_minor": 5
}
