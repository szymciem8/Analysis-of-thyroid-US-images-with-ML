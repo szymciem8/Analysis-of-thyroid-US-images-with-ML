{
 "cells": [
  {
   "cell_type": "code",
   "execution_count": 1,
   "id": "35b0a5a7-f3cd-4f40-bc9b-3a0bbaa2f420",
   "metadata": {},
   "outputs": [],
   "source": [
    "import tensorflow as tf\n",
    "from tensorflow.compat.v1 import ConfigProto\n",
    "from tensorflow.compat.v1 import InteractiveSession\n",
    "from transunet import TransUNet"
   ]
  },
  {
   "cell_type": "code",
   "execution_count": 2,
   "id": "7885bcc5-5140-48b2-ad69-ac1b01ee6e29",
   "metadata": {},
   "outputs": [],
   "source": [
    "gpus = tf.config.list_physical_devices('GPU')\n",
    "for gpu in gpus:\n",
    "    tf.config.experimental.set_memory_growth(gpu, True)\n",
    "    \n",
    "def fix_gpu():\n",
    "    config = ConfigProto()\n",
    "    config.gpu_options.allow_growth = True\n",
    "    session = InteractiveSession(config=config)\n",
    "    \n",
    "fix_gpu()"
   ]
  },
  {
   "cell_type": "code",
   "execution_count": 3,
   "id": "e6fd9048-4347-43e6-beac-d7640fc75eec",
   "metadata": {},
   "outputs": [],
   "source": [
    "from tensorflow import keras\n",
    "from utils import *"
   ]
  },
  {
   "cell_type": "code",
   "execution_count": 4,
   "id": "200bc207-77fc-4d57-9819-bee6159981c1",
   "metadata": {},
   "outputs": [],
   "source": [
    "filter_num = [32, 64, 128, 256]"
   ]
  },
  {
   "cell_type": "code",
   "execution_count": 6,
   "id": "46db361b-e6ee-4392-b723-669cde5948df",
   "metadata": {},
   "outputs": [],
   "source": [
    "model = models.transunet_2d((256, 256, 1), filter_num=filter_num, n_labels=1, stack_num_down=2, stack_num_up=2,\n",
    "                        embed_dim=768, num_mlp=3072, num_heads=12, num_transformer=12,\n",
    "                        activation='ReLU', mlp_activation='GELU', output_activation='Sigmoid', \n",
    "                        batch_norm=True, pool=True, unpool='bilinear', name='transunet')"
   ]
  },
  {
   "cell_type": "code",
   "execution_count": 2,
   "id": "60fc4784-8b5b-40e3-b11a-8e2d4d740e93",
   "metadata": {},
   "outputs": [],
   "source": [
    "# model.summary()"
   ]
  },
  {
   "cell_type": "code",
   "execution_count": 5,
   "id": "51fa8307-1383-4a51-93e7-8fd37fcf4aed",
   "metadata": {},
   "outputs": [],
   "source": [
    "def get_dataset(dataset_type, batch_size, image_gen_shape, augment, blacklist=None):\n",
    "  \n",
    "    # Prepare data generator\n",
    "    if dataset_type == 'ge':    \n",
    "        raw_dir = \"../dataUSGthyroid/GE_processed\"\n",
    "        blacklist = ['2061093', '1909699', '2026988', '2052396', '2051655', \n",
    "                     '2056390', '176349', '1645263', '2060219', '65544']\n",
    "    elif dataset_type == 'samsung':\n",
    "        raw_dir = \"../dataUSGthyroid/samsung_processed\"\n",
    "        blacklist = ['2089146', '2110713', '2096868', '441540', '2090807', \n",
    "                     '2090038', '2091948', '935892', '2058398', '2096659']\n",
    "    else:\n",
    "        raise Exception('Sorry, there is no dataset type called: ' + dataset_type)\n",
    "        \n",
    "    raw_masks = raw_dir + \"/masks\"\n",
    "    raw_images = raw_dir + \"/images\"\n",
    "    raw_images_paths = sorted(glob.glob(raw_images + '**/*', recursive=True))\n",
    "    raw_masks_paths = sorted(glob.glob(raw_masks + '**/*', recursive=True))\n",
    "    \n",
    "    if blacklist:\n",
    "        raw_images_paths = _filter_paths(raw_images_paths, blacklist)\n",
    "        raw_masks_paths = _filter_paths(raw_masks_paths, blacklist)\n",
    "    \n",
    "    TEST_LEN = 16\n",
    "    VAL_LEN = 10*16\n",
    "    TRAIN_LEN = len(raw_images_paths) - VAL_LEN - TEST_LEN\n",
    "        \n",
    "    train_images = raw_images_paths[:TRAIN_LEN]\n",
    "    validation_images = raw_images_paths[-(VAL_LEN+TEST_LEN):-TEST_LEN]\n",
    "    test_images =  raw_images_paths[-TEST_LEN:]\n",
    "\n",
    "    train_masks = raw_masks_paths[:TRAIN_LEN]\n",
    "    validation_masks = raw_masks_paths[-(VAL_LEN+TEST_LEN):-TEST_LEN]\n",
    "    test_masks =  raw_masks_paths[-TEST_LEN:]\n",
    "\n",
    "    train_gen = UltraSoundImages(batch_size, train_images, train_masks, size=image_gen_shape, dataset_type=dataset_type, augment=augment)\n",
    "    val_gen = UltraSoundImages(batch_size, validation_images, validation_masks, size=image_gen_shape, dataset_type=dataset_type, augment=augment)\n",
    "    test_gen = UltraSoundImages(batch_size, test_images, test_masks, size=image_gen_shape, dataset_type=dataset_type, augment=augment)\n",
    "    \n",
    "    return train_gen, val_gen, test_gen\n",
    "\n",
    "def _filter_paths(paths, blacklist):\n",
    "    new_paths = []\n",
    "    for path in paths:\n",
    "        file_id = path.split('/')[-1].split('_')[0]\n",
    "        if file_id not in blacklist:\n",
    "            new_paths.append(path)\n",
    "    return new_paths"
   ]
  },
  {
   "cell_type": "code",
   "execution_count": 7,
   "id": "081c6d26-a9c8-4642-8933-22f25df65694",
   "metadata": {},
   "outputs": [],
   "source": [
    "def get_dataset_2(dataset_type='samsung', size=(256,256)):\n",
    "    if dataset_type=='samsung':\n",
    "        dataset_path = \"../dataUSGthyroid/samsung_processed\"\n",
    "    elif dataset_type=='ge':\n",
    "        dataset_path = \"../dataUSGthyroid/GE_processed\"\n",
    "    else:\n",
    "        return None\n",
    "    raw_images = dataset_path + \"/images\"\n",
    "    raw_masks = dataset_path + \"/masks\"\n",
    "\n",
    "    raw_images_paths = sorted(glob.glob(raw_images + '**/*', recursive=True))\n",
    "    raw_masks_paths = sorted(glob.glob(raw_masks + '**/*', recursive=True))\n",
    "\n",
    "    TEST_LEN = 16\n",
    "    VAL_LEN = 4*16\n",
    "    # TEST_LEN = 5\n",
    "    # VAL_LEN = 40\n",
    "    TRAIN_LEN = len(raw_images_paths) - VAL_LEN - TEST_LEN\n",
    "    batch_size = 4\n",
    "\n",
    "\n",
    "    train_images = raw_images_paths[:TRAIN_LEN]\n",
    "    validation_images = raw_images_paths[-(VAL_LEN+TEST_LEN):-TEST_LEN]\n",
    "    test_images =  raw_images_paths[-TEST_LEN:]\n",
    "\n",
    "    train_masks = raw_masks_paths[:TRAIN_LEN]\n",
    "    validation_masks = raw_masks_paths[-(VAL_LEN+TEST_LEN):-TEST_LEN]\n",
    "    test_masks =  raw_masks_paths[-TEST_LEN:]\n",
    "\n",
    "    train_gen = UltraSoundImages(batch_size, train_images, train_masks, size=size, augment=False)\n",
    "    val_gen = UltraSoundImages(batch_size, validation_images, validation_masks, dataset_type=dataset_type, size=size, augment=True)\n",
    "    test_gen = UltraSoundImages(batch_size, test_images, test_masks, dataset_type=dataset_type, size=size, augment=True)\n",
    "    return train_gen, val_gen, test_gen"
   ]
  },
  {
   "cell_type": "code",
   "execution_count": 6,
   "id": "ca93be31-c6d8-4a93-b9e3-b427881b0188",
   "metadata": {},
   "outputs": [],
   "source": [
    "model_type = 'transunet_2d'\n",
    "image_input_shape = (384, 384, 1)\n",
    "image_gen_shape = image_input_shape\n",
    "loss_type = 'custom_focal_tversky'\n",
    "dataset_type = 'samsung'\n",
    "batch_size = 4\n",
    "augment = True\n",
    "epochs = 10\n",
    "\n",
    "# train_gen, val_gen, test_gen = get_dataset_2(dataset_type, (256, 256, 1))"
   ]
  },
  {
   "cell_type": "code",
   "execution_count": 11,
   "id": "de4a99e5-7ec7-42fa-bc8b-053ce9efd0ed",
   "metadata": {},
   "outputs": [
    {
     "data": {
      "text/plain": [
       "(4, 256, 256, 1)"
      ]
     },
     "execution_count": 11,
     "metadata": {},
     "output_type": "execute_result"
    }
   ],
   "source": [
    "images, masks = train_gen.__getitem__(0)\n",
    "images.shape"
   ]
  },
  {
   "cell_type": "code",
   "execution_count": 7,
   "id": "bb411c06-acd2-4a5b-a874-819f66a5e631",
   "metadata": {},
   "outputs": [
    {
     "name": "stdout",
     "output_type": "stream",
     "text": [
      "Loading images from NRRD format and resizing\n",
      "Finished loading\n",
      "Loading images from NRRD format and resizing\n",
      "Finished loading\n",
      "Loading images from NRRD format and resizing\n",
      "Finished loading\n"
     ]
    }
   ],
   "source": [
    "train_gen, val_gen, test_gen = get_dataset(dataset_type, 4, (512,512), True)"
   ]
  },
  {
   "cell_type": "code",
   "execution_count": 15,
   "id": "f88c809d-77be-409e-8130-ccb315d70ad4",
   "metadata": {},
   "outputs": [
    {
     "data": {
      "text/plain": [
       "(16, 512, 512, 1)"
      ]
     },
     "execution_count": 15,
     "metadata": {},
     "output_type": "execute_result"
    }
   ],
   "source": [
    "images, masks = train_gen.__getitem__(0)\n",
    "images.shape"
   ]
  },
  {
   "cell_type": "code",
   "execution_count": 8,
   "id": "784e5bf8-5ca0-4431-8ef1-0257c3461724",
   "metadata": {},
   "outputs": [],
   "source": [
    "from keras_unet_collection import models, losses"
   ]
  },
  {
   "cell_type": "code",
   "execution_count": 8,
   "id": "e89a42e8-63eb-4c9b-9e33-cc13f701c34b",
   "metadata": {},
   "outputs": [],
   "source": [
    "names = []\n",
    "for name, dev_type in gpus:\n",
    "    names.append(name)"
   ]
  },
  {
   "cell_type": "code",
   "execution_count": 9,
   "id": "313d1c72-cc5b-49ba-b57f-a94ae5846786",
   "metadata": {},
   "outputs": [],
   "source": [
    "def custom_focal_tversky(y_true, y_pred, alpha=0.7, gamma=4/3):\n",
    "    return losses.focal_tversky(y_true, y_pred, alpha=alpha, gamma=gamma)\n",
    "\n",
    "custom_objects = {'custom_focal_tversky': custom_focal_tversky}"
   ]
  },
  {
   "cell_type": "code",
   "execution_count": 8,
   "id": "3414590f-ef56-4996-949c-444768cb2a4c",
   "metadata": {},
   "outputs": [],
   "source": [
    "# run_opts = tf.RunOptions(report_tensor_allocations_upon_oom = True)"
   ]
  },
  {
   "cell_type": "code",
   "execution_count": 19,
   "id": "2fd7564f-7916-4aea-b780-edb962ad9c9e",
   "metadata": {},
   "outputs": [],
   "source": [
    "# tf.contrib.keras.backend.clear_session()"
   ]
  },
  {
   "cell_type": "code",
   "execution_count": 11,
   "id": "05da411f-6d4e-4409-abe3-8babfd1109e7",
   "metadata": {},
   "outputs": [
    {
     "name": "stdout",
     "output_type": "stream",
     "text": [
      "INFO:tensorflow:Using MirroredStrategy with devices ('/job:localhost/replica:0/task:0/device:GPU:0', '/job:localhost/replica:0/task:0/device:GPU:1', '/job:localhost/replica:0/task:0/device:GPU:2')\n"
     ]
    },
    {
     "ename": "ValueError",
     "evalue": "Cannot assign to variable conv1_conv/kernel:0 due to variable shape (7, 7, 1, 64) and value shape (64, 3, 7, 7) are incompatible",
     "output_type": "error",
     "traceback": [
      "\u001b[0;31m---------------------------------------------------------------------------\u001b[0m",
      "\u001b[0;31mValueError\u001b[0m                                Traceback (most recent call last)",
      "\u001b[0;32m<ipython-input-11-22d13fe1b18c>\u001b[0m in \u001b[0;36m<module>\u001b[0;34m\u001b[0m\n\u001b[1;32m     10\u001b[0m     model = models.transunet_2d((512, 512, 1), filter_num=filter_num, n_labels=1, stack_num_down=2, stack_num_up=2,\n\u001b[1;32m     11\u001b[0m                             \u001b[0membed_dim\u001b[0m\u001b[0;34m=\u001b[0m\u001b[0;36m768\u001b[0m\u001b[0;34m,\u001b[0m \u001b[0mnum_mlp\u001b[0m\u001b[0;34m=\u001b[0m\u001b[0;36m3072\u001b[0m\u001b[0;34m,\u001b[0m \u001b[0mnum_heads\u001b[0m\u001b[0;34m=\u001b[0m\u001b[0;36m12\u001b[0m\u001b[0;34m,\u001b[0m \u001b[0mnum_transformer\u001b[0m\u001b[0;34m=\u001b[0m\u001b[0;36m12\u001b[0m\u001b[0;34m,\u001b[0m\u001b[0;34m\u001b[0m\u001b[0;34m\u001b[0m\u001b[0m\n\u001b[0;32m---> 12\u001b[0;31m                             activation='ReLU', mlp_activation='GELU', output_activation='Sigmoid', backbone='ResNet50')\n\u001b[0m\u001b[1;32m     13\u001b[0m \u001b[0;34m\u001b[0m\u001b[0m\n\u001b[1;32m     14\u001b[0m     \u001b[0;31m# model = tf.keras.models.load_model('output/transunet_2d/samsung/size_256_model_1/model/model', custom_objects=custom_objects)\u001b[0m\u001b[0;34m\u001b[0m\u001b[0;34m\u001b[0m\u001b[0;34m\u001b[0m\u001b[0m\n",
      "\u001b[0;32m~/thyroid_analysis/.env/lib64/python3.6/site-packages/keras_unet_collection/_model_transunet_2d.py\u001b[0m in \u001b[0;36mtransunet_2d\u001b[0;34m(input_size, filter_num, n_labels, stack_num_down, stack_num_up, embed_dim, num_mlp, num_heads, num_transformer, activation, mlp_activation, output_activation, batch_norm, pool, unpool, backbone, weights, freeze_backbone, freeze_batch_norm, name)\u001b[0m\n\u001b[1;32m    340\u001b[0m                           \u001b[0membed_dim\u001b[0m\u001b[0;34m=\u001b[0m\u001b[0membed_dim\u001b[0m\u001b[0;34m,\u001b[0m \u001b[0mnum_mlp\u001b[0m\u001b[0;34m=\u001b[0m\u001b[0mnum_mlp\u001b[0m\u001b[0;34m,\u001b[0m \u001b[0mnum_heads\u001b[0m\u001b[0;34m=\u001b[0m\u001b[0mnum_heads\u001b[0m\u001b[0;34m,\u001b[0m \u001b[0mnum_transformer\u001b[0m\u001b[0;34m=\u001b[0m\u001b[0mnum_transformer\u001b[0m\u001b[0;34m,\u001b[0m\u001b[0;34m\u001b[0m\u001b[0;34m\u001b[0m\u001b[0m\n\u001b[1;32m    341\u001b[0m                           \u001b[0mactivation\u001b[0m\u001b[0;34m=\u001b[0m\u001b[0mactivation\u001b[0m\u001b[0;34m,\u001b[0m \u001b[0mmlp_activation\u001b[0m\u001b[0;34m=\u001b[0m\u001b[0mmlp_activation\u001b[0m\u001b[0;34m,\u001b[0m \u001b[0mbatch_norm\u001b[0m\u001b[0;34m=\u001b[0m\u001b[0mbatch_norm\u001b[0m\u001b[0;34m,\u001b[0m \u001b[0mpool\u001b[0m\u001b[0;34m=\u001b[0m\u001b[0mpool\u001b[0m\u001b[0;34m,\u001b[0m \u001b[0munpool\u001b[0m\u001b[0;34m=\u001b[0m\u001b[0munpool\u001b[0m\u001b[0;34m,\u001b[0m\u001b[0;34m\u001b[0m\u001b[0;34m\u001b[0m\u001b[0m\n\u001b[0;32m--> 342\u001b[0;31m                           backbone=backbone, weights=weights, freeze_backbone=freeze_backbone, freeze_batch_norm=freeze_batch_norm, name=name)\n\u001b[0m\u001b[1;32m    343\u001b[0m \u001b[0;34m\u001b[0m\u001b[0m\n\u001b[1;32m    344\u001b[0m     \u001b[0;31m# output layer\u001b[0m\u001b[0;34m\u001b[0m\u001b[0;34m\u001b[0m\u001b[0;34m\u001b[0m\u001b[0m\n",
      "\u001b[0;32m~/thyroid_analysis/.env/lib64/python3.6/site-packages/keras_unet_collection/_model_transunet_2d.py\u001b[0m in \u001b[0;36mtransunet_2d_base\u001b[0;34m(input_tensor, filter_num, stack_num_down, stack_num_up, embed_dim, num_mlp, num_heads, num_transformer, activation, mlp_activation, batch_norm, pool, unpool, backbone, weights, freeze_backbone, freeze_batch_norm, name)\u001b[0m\n\u001b[1;32m    199\u001b[0m         \u001b[0;31m# for other backbones\u001b[0m\u001b[0;34m\u001b[0m\u001b[0;34m\u001b[0m\u001b[0;34m\u001b[0m\u001b[0m\n\u001b[1;32m    200\u001b[0m         \u001b[0;32melse\u001b[0m\u001b[0;34m:\u001b[0m\u001b[0;34m\u001b[0m\u001b[0;34m\u001b[0m\u001b[0m\n\u001b[0;32m--> 201\u001b[0;31m             \u001b[0mbackbone_\u001b[0m \u001b[0;34m=\u001b[0m \u001b[0mbackbone_zoo\u001b[0m\u001b[0;34m(\u001b[0m\u001b[0mbackbone\u001b[0m\u001b[0;34m,\u001b[0m \u001b[0mweights\u001b[0m\u001b[0;34m,\u001b[0m \u001b[0minput_tensor\u001b[0m\u001b[0;34m,\u001b[0m \u001b[0mdepth_\u001b[0m\u001b[0;34m-\u001b[0m\u001b[0;36m1\u001b[0m\u001b[0;34m,\u001b[0m \u001b[0mfreeze_backbone\u001b[0m\u001b[0;34m,\u001b[0m \u001b[0mfreeze_batch_norm\u001b[0m\u001b[0;34m)\u001b[0m\u001b[0;34m\u001b[0m\u001b[0;34m\u001b[0m\u001b[0m\n\u001b[0m\u001b[1;32m    202\u001b[0m             \u001b[0;31m# collecting backbone feature maps\u001b[0m\u001b[0;34m\u001b[0m\u001b[0;34m\u001b[0m\u001b[0;34m\u001b[0m\u001b[0m\n\u001b[1;32m    203\u001b[0m             \u001b[0mX_skip\u001b[0m \u001b[0;34m=\u001b[0m \u001b[0mbackbone_\u001b[0m\u001b[0;34m(\u001b[0m\u001b[0;34m[\u001b[0m\u001b[0minput_tensor\u001b[0m\u001b[0;34m,\u001b[0m\u001b[0;34m]\u001b[0m\u001b[0;34m)\u001b[0m\u001b[0;34m\u001b[0m\u001b[0;34m\u001b[0m\u001b[0m\n",
      "\u001b[0;32m~/thyroid_analysis/.env/lib64/python3.6/site-packages/keras_unet_collection/_backbone_zoo.py\u001b[0m in \u001b[0;36mbackbone_zoo\u001b[0;34m(backbone_name, weights, input_tensor, depth, freeze_backbone, freeze_batch_norm)\u001b[0m\n\u001b[1;32m     84\u001b[0m \u001b[0;34m\u001b[0m\u001b[0m\n\u001b[1;32m     85\u001b[0m     \u001b[0mbackbone_func\u001b[0m \u001b[0;34m=\u001b[0m \u001b[0meval\u001b[0m\u001b[0;34m(\u001b[0m\u001b[0mbackbone_name\u001b[0m\u001b[0;34m)\u001b[0m\u001b[0;34m\u001b[0m\u001b[0;34m\u001b[0m\u001b[0m\n\u001b[0;32m---> 86\u001b[0;31m     \u001b[0mbackbone_\u001b[0m \u001b[0;34m=\u001b[0m \u001b[0mbackbone_func\u001b[0m\u001b[0;34m(\u001b[0m\u001b[0minclude_top\u001b[0m\u001b[0;34m=\u001b[0m\u001b[0;32mFalse\u001b[0m\u001b[0;34m,\u001b[0m \u001b[0mweights\u001b[0m\u001b[0;34m=\u001b[0m\u001b[0mweights\u001b[0m\u001b[0;34m,\u001b[0m \u001b[0minput_tensor\u001b[0m\u001b[0;34m=\u001b[0m\u001b[0minput_tensor\u001b[0m\u001b[0;34m,\u001b[0m \u001b[0mpooling\u001b[0m\u001b[0;34m=\u001b[0m\u001b[0;32mNone\u001b[0m\u001b[0;34m,\u001b[0m\u001b[0;34m)\u001b[0m\u001b[0;34m\u001b[0m\u001b[0;34m\u001b[0m\u001b[0m\n\u001b[0m\u001b[1;32m     87\u001b[0m \u001b[0;34m\u001b[0m\u001b[0m\n\u001b[1;32m     88\u001b[0m     \u001b[0mX_skip\u001b[0m \u001b[0;34m=\u001b[0m \u001b[0;34m[\u001b[0m\u001b[0;34m]\u001b[0m\u001b[0;34m\u001b[0m\u001b[0;34m\u001b[0m\u001b[0m\n",
      "\u001b[0;32m~/thyroid_analysis/.env/lib64/python3.6/site-packages/keras/applications/resnet.py\u001b[0m in \u001b[0;36mResNet50\u001b[0;34m(include_top, weights, input_tensor, input_shape, pooling, classes, **kwargs)\u001b[0m\n\u001b[1;32m    457\u001b[0m \u001b[0;34m\u001b[0m\u001b[0m\n\u001b[1;32m    458\u001b[0m   return ResNet(stack_fn, False, True, 'resnet50', include_top, weights,\n\u001b[0;32m--> 459\u001b[0;31m                 input_tensor, input_shape, pooling, classes, **kwargs)\n\u001b[0m\u001b[1;32m    460\u001b[0m \u001b[0;34m\u001b[0m\u001b[0m\n\u001b[1;32m    461\u001b[0m \u001b[0;34m\u001b[0m\u001b[0m\n",
      "\u001b[0;32m~/thyroid_analysis/.env/lib64/python3.6/site-packages/keras/applications/resnet.py\u001b[0m in \u001b[0;36mResNet\u001b[0;34m(stack_fn, preact, use_bias, model_name, include_top, weights, input_tensor, input_shape, pooling, classes, classifier_activation, **kwargs)\u001b[0m\n\u001b[1;32m    204\u001b[0m         \u001b[0mcache_subdir\u001b[0m\u001b[0;34m=\u001b[0m\u001b[0;34m'models'\u001b[0m\u001b[0;34m,\u001b[0m\u001b[0;34m\u001b[0m\u001b[0;34m\u001b[0m\u001b[0m\n\u001b[1;32m    205\u001b[0m         file_hash=file_hash)\n\u001b[0;32m--> 206\u001b[0;31m     \u001b[0mmodel\u001b[0m\u001b[0;34m.\u001b[0m\u001b[0mload_weights\u001b[0m\u001b[0;34m(\u001b[0m\u001b[0mweights_path\u001b[0m\u001b[0;34m)\u001b[0m\u001b[0;34m\u001b[0m\u001b[0;34m\u001b[0m\u001b[0m\n\u001b[0m\u001b[1;32m    207\u001b[0m   \u001b[0;32melif\u001b[0m \u001b[0mweights\u001b[0m \u001b[0;32mis\u001b[0m \u001b[0;32mnot\u001b[0m \u001b[0;32mNone\u001b[0m\u001b[0;34m:\u001b[0m\u001b[0;34m\u001b[0m\u001b[0;34m\u001b[0m\u001b[0m\n\u001b[1;32m    208\u001b[0m     \u001b[0mmodel\u001b[0m\u001b[0;34m.\u001b[0m\u001b[0mload_weights\u001b[0m\u001b[0;34m(\u001b[0m\u001b[0mweights\u001b[0m\u001b[0;34m)\u001b[0m\u001b[0;34m\u001b[0m\u001b[0;34m\u001b[0m\u001b[0m\n",
      "\u001b[0;32m~/thyroid_analysis/.env/lib64/python3.6/site-packages/keras/engine/training.py\u001b[0m in \u001b[0;36mload_weights\u001b[0;34m(self, filepath, by_name, skip_mismatch, options)\u001b[0m\n\u001b[1;32m   2359\u001b[0m               f, self.layers, skip_mismatch=skip_mismatch)\n\u001b[1;32m   2360\u001b[0m         \u001b[0;32melse\u001b[0m\u001b[0;34m:\u001b[0m\u001b[0;34m\u001b[0m\u001b[0;34m\u001b[0m\u001b[0m\n\u001b[0;32m-> 2361\u001b[0;31m           \u001b[0mhdf5_format\u001b[0m\u001b[0;34m.\u001b[0m\u001b[0mload_weights_from_hdf5_group\u001b[0m\u001b[0;34m(\u001b[0m\u001b[0mf\u001b[0m\u001b[0;34m,\u001b[0m \u001b[0mself\u001b[0m\u001b[0;34m.\u001b[0m\u001b[0mlayers\u001b[0m\u001b[0;34m)\u001b[0m\u001b[0;34m\u001b[0m\u001b[0;34m\u001b[0m\u001b[0m\n\u001b[0m\u001b[1;32m   2362\u001b[0m \u001b[0;34m\u001b[0m\u001b[0m\n\u001b[1;32m   2363\u001b[0m     \u001b[0;31m# Perform any layer defined finalization of the layer state.\u001b[0m\u001b[0;34m\u001b[0m\u001b[0;34m\u001b[0m\u001b[0;34m\u001b[0m\u001b[0m\n",
      "\u001b[0;32m~/thyroid_analysis/.env/lib64/python3.6/site-packages/keras/saving/hdf5_format.py\u001b[0m in \u001b[0;36mload_weights_from_hdf5_group\u001b[0;34m(f, layers)\u001b[0m\n\u001b[1;32m    711\u001b[0m                        str(len(weight_values)) + ' elements.')\n\u001b[1;32m    712\u001b[0m     \u001b[0mweight_value_tuples\u001b[0m \u001b[0;34m+=\u001b[0m \u001b[0mzip\u001b[0m\u001b[0;34m(\u001b[0m\u001b[0msymbolic_weights\u001b[0m\u001b[0;34m,\u001b[0m \u001b[0mweight_values\u001b[0m\u001b[0;34m)\u001b[0m\u001b[0;34m\u001b[0m\u001b[0;34m\u001b[0m\u001b[0m\n\u001b[0;32m--> 713\u001b[0;31m   \u001b[0mbackend\u001b[0m\u001b[0;34m.\u001b[0m\u001b[0mbatch_set_value\u001b[0m\u001b[0;34m(\u001b[0m\u001b[0mweight_value_tuples\u001b[0m\u001b[0;34m)\u001b[0m\u001b[0;34m\u001b[0m\u001b[0;34m\u001b[0m\u001b[0m\n\u001b[0m\u001b[1;32m    714\u001b[0m \u001b[0;34m\u001b[0m\u001b[0m\n\u001b[1;32m    715\u001b[0m \u001b[0;34m\u001b[0m\u001b[0m\n",
      "\u001b[0;32m~/thyroid_analysis/.env/lib64/python3.6/site-packages/tensorflow/python/util/dispatch.py\u001b[0m in \u001b[0;36mwrapper\u001b[0;34m(*args, **kwargs)\u001b[0m\n\u001b[1;32m    204\u001b[0m     \u001b[0;34m\"\"\"Call target, and fall back on dispatchers if there is a TypeError.\"\"\"\u001b[0m\u001b[0;34m\u001b[0m\u001b[0;34m\u001b[0m\u001b[0m\n\u001b[1;32m    205\u001b[0m     \u001b[0;32mtry\u001b[0m\u001b[0;34m:\u001b[0m\u001b[0;34m\u001b[0m\u001b[0;34m\u001b[0m\u001b[0m\n\u001b[0;32m--> 206\u001b[0;31m       \u001b[0;32mreturn\u001b[0m \u001b[0mtarget\u001b[0m\u001b[0;34m(\u001b[0m\u001b[0;34m*\u001b[0m\u001b[0margs\u001b[0m\u001b[0;34m,\u001b[0m \u001b[0;34m**\u001b[0m\u001b[0mkwargs\u001b[0m\u001b[0;34m)\u001b[0m\u001b[0;34m\u001b[0m\u001b[0;34m\u001b[0m\u001b[0m\n\u001b[0m\u001b[1;32m    207\u001b[0m     \u001b[0;32mexcept\u001b[0m \u001b[0;34m(\u001b[0m\u001b[0mTypeError\u001b[0m\u001b[0;34m,\u001b[0m \u001b[0mValueError\u001b[0m\u001b[0;34m)\u001b[0m\u001b[0;34m:\u001b[0m\u001b[0;34m\u001b[0m\u001b[0;34m\u001b[0m\u001b[0m\n\u001b[1;32m    208\u001b[0m       \u001b[0;31m# Note: convert_to_eager_tensor currently raises a ValueError, not a\u001b[0m\u001b[0;34m\u001b[0m\u001b[0;34m\u001b[0m\u001b[0;34m\u001b[0m\u001b[0m\n",
      "\u001b[0;32m~/thyroid_analysis/.env/lib64/python3.6/site-packages/keras/backend.py\u001b[0m in \u001b[0;36mbatch_set_value\u001b[0;34m(tuples)\u001b[0m\n\u001b[1;32m   3773\u001b[0m   \u001b[0;32mif\u001b[0m \u001b[0mtf\u001b[0m\u001b[0;34m.\u001b[0m\u001b[0mcompat\u001b[0m\u001b[0;34m.\u001b[0m\u001b[0mv1\u001b[0m\u001b[0;34m.\u001b[0m\u001b[0mexecuting_eagerly_outside_functions\u001b[0m\u001b[0;34m(\u001b[0m\u001b[0;34m)\u001b[0m\u001b[0;34m:\u001b[0m\u001b[0;34m\u001b[0m\u001b[0;34m\u001b[0m\u001b[0m\n\u001b[1;32m   3774\u001b[0m     \u001b[0;32mfor\u001b[0m \u001b[0mx\u001b[0m\u001b[0;34m,\u001b[0m \u001b[0mvalue\u001b[0m \u001b[0;32min\u001b[0m \u001b[0mtuples\u001b[0m\u001b[0;34m:\u001b[0m\u001b[0;34m\u001b[0m\u001b[0;34m\u001b[0m\u001b[0m\n\u001b[0;32m-> 3775\u001b[0;31m       \u001b[0mx\u001b[0m\u001b[0;34m.\u001b[0m\u001b[0massign\u001b[0m\u001b[0;34m(\u001b[0m\u001b[0mnp\u001b[0m\u001b[0;34m.\u001b[0m\u001b[0masarray\u001b[0m\u001b[0;34m(\u001b[0m\u001b[0mvalue\u001b[0m\u001b[0;34m,\u001b[0m \u001b[0mdtype\u001b[0m\u001b[0;34m=\u001b[0m\u001b[0mdtype_numpy\u001b[0m\u001b[0;34m(\u001b[0m\u001b[0mx\u001b[0m\u001b[0;34m)\u001b[0m\u001b[0;34m)\u001b[0m\u001b[0;34m)\u001b[0m\u001b[0;34m\u001b[0m\u001b[0;34m\u001b[0m\u001b[0m\n\u001b[0m\u001b[1;32m   3776\u001b[0m   \u001b[0;32melse\u001b[0m\u001b[0;34m:\u001b[0m\u001b[0;34m\u001b[0m\u001b[0;34m\u001b[0m\u001b[0m\n\u001b[1;32m   3777\u001b[0m     \u001b[0;32mwith\u001b[0m \u001b[0mget_graph\u001b[0m\u001b[0;34m(\u001b[0m\u001b[0;34m)\u001b[0m\u001b[0;34m.\u001b[0m\u001b[0mas_default\u001b[0m\u001b[0;34m(\u001b[0m\u001b[0;34m)\u001b[0m\u001b[0;34m:\u001b[0m\u001b[0;34m\u001b[0m\u001b[0;34m\u001b[0m\u001b[0m\n",
      "\u001b[0;32m~/thyroid_analysis/.env/lib64/python3.6/site-packages/tensorflow/python/distribute/values.py\u001b[0m in \u001b[0;36massign\u001b[0;34m(self, value, use_locking, name, read_value)\u001b[0m\n\u001b[1;32m    815\u001b[0m           read_value=read_value)\n\u001b[1;32m    816\u001b[0m     return values_util.on_write_assign(\n\u001b[0;32m--> 817\u001b[0;31m         self, value, use_locking=use_locking, name=name, read_value=read_value)\n\u001b[0m\u001b[1;32m    818\u001b[0m \u001b[0;34m\u001b[0m\u001b[0m\n\u001b[1;32m    819\u001b[0m   \u001b[0;32mdef\u001b[0m \u001b[0mscatter_sub\u001b[0m\u001b[0;34m(\u001b[0m\u001b[0mself\u001b[0m\u001b[0;34m,\u001b[0m \u001b[0msparse_delta\u001b[0m\u001b[0;34m,\u001b[0m \u001b[0muse_locking\u001b[0m\u001b[0;34m=\u001b[0m\u001b[0;32mFalse\u001b[0m\u001b[0;34m,\u001b[0m \u001b[0mname\u001b[0m\u001b[0;34m=\u001b[0m\u001b[0;32mNone\u001b[0m\u001b[0;34m)\u001b[0m\u001b[0;34m:\u001b[0m\u001b[0;34m\u001b[0m\u001b[0;34m\u001b[0m\u001b[0m\n",
      "\u001b[0;32m~/thyroid_analysis/.env/lib64/python3.6/site-packages/tensorflow/python/distribute/values_util.py\u001b[0m in \u001b[0;36mon_write_assign\u001b[0;34m(var, value, use_locking, name, read_value)\u001b[0m\n\u001b[1;32m    143\u001b[0m       \u001b[0muse_locking\u001b[0m\u001b[0;34m=\u001b[0m\u001b[0muse_locking\u001b[0m\u001b[0;34m,\u001b[0m\u001b[0;34m\u001b[0m\u001b[0;34m\u001b[0m\u001b[0m\n\u001b[1;32m    144\u001b[0m       \u001b[0mname\u001b[0m\u001b[0;34m=\u001b[0m\u001b[0mname\u001b[0m\u001b[0;34m,\u001b[0m\u001b[0;34m\u001b[0m\u001b[0;34m\u001b[0m\u001b[0m\n\u001b[0;32m--> 145\u001b[0;31m       read_value=read_value)\n\u001b[0m\u001b[1;32m    146\u001b[0m \u001b[0;34m\u001b[0m\u001b[0m\n\u001b[1;32m    147\u001b[0m \u001b[0;34m\u001b[0m\u001b[0m\n",
      "\u001b[0;32m~/thyroid_analysis/.env/lib64/python3.6/site-packages/tensorflow/python/distribute/values.py\u001b[0m in \u001b[0;36m_update\u001b[0;34m(self, update_fn, value, **kwargs)\u001b[0m\n\u001b[1;32m    973\u001b[0m           \u001b[0mreplica_value\u001b[0m \u001b[0;34m=\u001b[0m \u001b[0mself\u001b[0m\u001b[0;34m.\u001b[0m\u001b[0m_get_replica\u001b[0m\u001b[0;34m(\u001b[0m\u001b[0mupdate_replica_id\u001b[0m\u001b[0;34m)\u001b[0m\u001b[0;34m\u001b[0m\u001b[0;34m\u001b[0m\u001b[0m\n\u001b[1;32m    974\u001b[0m           \u001b[0;32mreturn\u001b[0m \u001b[0mupdate_fn\u001b[0m\u001b[0;34m(\u001b[0m\u001b[0mreplica_value\u001b[0m\u001b[0;34m,\u001b[0m \u001b[0mvalue\u001b[0m\u001b[0;34m,\u001b[0m \u001b[0;34m**\u001b[0m\u001b[0mkwargs\u001b[0m\u001b[0;34m)\u001b[0m\u001b[0;34m\u001b[0m\u001b[0;34m\u001b[0m\u001b[0m\n\u001b[0;32m--> 975\u001b[0;31m         \u001b[0;32mreturn\u001b[0m \u001b[0mself\u001b[0m\u001b[0;34m.\u001b[0m\u001b[0m_update_cross_replica\u001b[0m\u001b[0;34m(\u001b[0m\u001b[0mupdate_fn\u001b[0m\u001b[0;34m,\u001b[0m \u001b[0mvalue\u001b[0m\u001b[0;34m,\u001b[0m \u001b[0;34m**\u001b[0m\u001b[0mkwargs\u001b[0m\u001b[0;34m)\u001b[0m\u001b[0;34m\u001b[0m\u001b[0;34m\u001b[0m\u001b[0m\n\u001b[0m\u001b[1;32m    976\u001b[0m       \u001b[0;32melse\u001b[0m\u001b[0;34m:\u001b[0m\u001b[0;34m\u001b[0m\u001b[0;34m\u001b[0m\u001b[0m\n\u001b[1;32m    977\u001b[0m         \u001b[0mvalues_util\u001b[0m\u001b[0;34m.\u001b[0m\u001b[0massert_replica_context\u001b[0m\u001b[0;34m(\u001b[0m\u001b[0mself\u001b[0m\u001b[0;34m.\u001b[0m\u001b[0mdistribute_strategy\u001b[0m\u001b[0;34m)\u001b[0m\u001b[0;34m\u001b[0m\u001b[0;34m\u001b[0m\u001b[0m\n",
      "\u001b[0;32m~/thyroid_analysis/.env/lib64/python3.6/site-packages/tensorflow/python/distribute/values.py\u001b[0m in \u001b[0;36m_update_cross_replica\u001b[0;34m(self, update_fn, value, **kwargs)\u001b[0m\n\u001b[1;32m    927\u001b[0m     \u001b[0mvalues_util\u001b[0m\u001b[0;34m.\u001b[0m\u001b[0mmark_as_unsaveable\u001b[0m\u001b[0;34m(\u001b[0m\u001b[0;34m)\u001b[0m\u001b[0;34m\u001b[0m\u001b[0;34m\u001b[0m\u001b[0m\n\u001b[1;32m    928\u001b[0m     return self.distribute_strategy.extended.update(\n\u001b[0;32m--> 929\u001b[0;31m         self, update_fn, args=(value,), kwargs=kwargs, group=True)\n\u001b[0m\u001b[1;32m    930\u001b[0m \u001b[0;34m\u001b[0m\u001b[0m\n\u001b[1;32m    931\u001b[0m   \u001b[0;32mdef\u001b[0m \u001b[0m_update_replica\u001b[0m\u001b[0;34m(\u001b[0m\u001b[0mself\u001b[0m\u001b[0;34m,\u001b[0m \u001b[0mupdate_fn\u001b[0m\u001b[0;34m,\u001b[0m \u001b[0mvalue\u001b[0m\u001b[0;34m,\u001b[0m \u001b[0;34m**\u001b[0m\u001b[0mkwargs\u001b[0m\u001b[0;34m)\u001b[0m\u001b[0;34m:\u001b[0m\u001b[0;34m\u001b[0m\u001b[0;34m\u001b[0m\u001b[0m\n",
      "\u001b[0;32m~/thyroid_analysis/.env/lib64/python3.6/site-packages/tensorflow/python/distribute/distribute_lib.py\u001b[0m in \u001b[0;36mupdate\u001b[0;34m(self, var, fn, args, kwargs, group)\u001b[0m\n\u001b[1;32m   2590\u001b[0m           fn, autograph_ctx.control_status_ctx(), convert_by_default=False)\n\u001b[1;32m   2591\u001b[0m       \u001b[0;32mwith\u001b[0m \u001b[0mself\u001b[0m\u001b[0;34m.\u001b[0m\u001b[0m_container_strategy\u001b[0m\u001b[0;34m(\u001b[0m\u001b[0;34m)\u001b[0m\u001b[0;34m.\u001b[0m\u001b[0mscope\u001b[0m\u001b[0;34m(\u001b[0m\u001b[0;34m)\u001b[0m\u001b[0;34m:\u001b[0m\u001b[0;34m\u001b[0m\u001b[0;34m\u001b[0m\u001b[0m\n\u001b[0;32m-> 2592\u001b[0;31m         \u001b[0;32mreturn\u001b[0m \u001b[0mself\u001b[0m\u001b[0;34m.\u001b[0m\u001b[0m_update\u001b[0m\u001b[0;34m(\u001b[0m\u001b[0mvar\u001b[0m\u001b[0;34m,\u001b[0m \u001b[0mfn\u001b[0m\u001b[0;34m,\u001b[0m \u001b[0margs\u001b[0m\u001b[0;34m,\u001b[0m \u001b[0mkwargs\u001b[0m\u001b[0;34m,\u001b[0m \u001b[0mgroup\u001b[0m\u001b[0;34m)\u001b[0m\u001b[0;34m\u001b[0m\u001b[0;34m\u001b[0m\u001b[0m\n\u001b[0m\u001b[1;32m   2593\u001b[0m     \u001b[0;32melse\u001b[0m\u001b[0;34m:\u001b[0m\u001b[0;34m\u001b[0m\u001b[0;34m\u001b[0m\u001b[0m\n\u001b[1;32m   2594\u001b[0m       return self._replica_ctx_update(\n",
      "\u001b[0;32m~/thyroid_analysis/.env/lib64/python3.6/site-packages/tensorflow/python/distribute/mirrored_strategy.py\u001b[0m in \u001b[0;36m_update\u001b[0;34m(self, var, fn, args, kwargs, group)\u001b[0m\n\u001b[1;32m    774\u001b[0m         updates.append(\n\u001b[1;32m    775\u001b[0m             fn(v, *distribute_utils.select_replica(i, args),\n\u001b[0;32m--> 776\u001b[0;31m                **distribute_utils.select_replica(i, kwargs)))\n\u001b[0m\u001b[1;32m    777\u001b[0m     \u001b[0;32mreturn\u001b[0m \u001b[0mdistribute_utils\u001b[0m\u001b[0;34m.\u001b[0m\u001b[0mupdate_regroup\u001b[0m\u001b[0;34m(\u001b[0m\u001b[0mself\u001b[0m\u001b[0;34m,\u001b[0m \u001b[0mupdates\u001b[0m\u001b[0;34m,\u001b[0m \u001b[0mgroup\u001b[0m\u001b[0;34m)\u001b[0m\u001b[0;34m\u001b[0m\u001b[0;34m\u001b[0m\u001b[0m\n\u001b[1;32m    778\u001b[0m \u001b[0;34m\u001b[0m\u001b[0m\n",
      "\u001b[0;32m~/thyroid_analysis/.env/lib64/python3.6/site-packages/tensorflow/python/autograph/impl/api.py\u001b[0m in \u001b[0;36mwrapper\u001b[0;34m(*args, **kwargs)\u001b[0m\n\u001b[1;32m    595\u001b[0m   \u001b[0;32mdef\u001b[0m \u001b[0mwrapper\u001b[0m\u001b[0;34m(\u001b[0m\u001b[0;34m*\u001b[0m\u001b[0margs\u001b[0m\u001b[0;34m,\u001b[0m \u001b[0;34m**\u001b[0m\u001b[0mkwargs\u001b[0m\u001b[0;34m)\u001b[0m\u001b[0;34m:\u001b[0m\u001b[0;34m\u001b[0m\u001b[0;34m\u001b[0m\u001b[0m\n\u001b[1;32m    596\u001b[0m     \u001b[0;32mwith\u001b[0m \u001b[0mag_ctx\u001b[0m\u001b[0;34m.\u001b[0m\u001b[0mControlStatusCtx\u001b[0m\u001b[0;34m(\u001b[0m\u001b[0mstatus\u001b[0m\u001b[0;34m=\u001b[0m\u001b[0mag_ctx\u001b[0m\u001b[0;34m.\u001b[0m\u001b[0mStatus\u001b[0m\u001b[0;34m.\u001b[0m\u001b[0mUNSPECIFIED\u001b[0m\u001b[0;34m)\u001b[0m\u001b[0;34m:\u001b[0m\u001b[0;34m\u001b[0m\u001b[0;34m\u001b[0m\u001b[0m\n\u001b[0;32m--> 597\u001b[0;31m       \u001b[0;32mreturn\u001b[0m \u001b[0mfunc\u001b[0m\u001b[0;34m(\u001b[0m\u001b[0;34m*\u001b[0m\u001b[0margs\u001b[0m\u001b[0;34m,\u001b[0m \u001b[0;34m**\u001b[0m\u001b[0mkwargs\u001b[0m\u001b[0;34m)\u001b[0m\u001b[0;34m\u001b[0m\u001b[0;34m\u001b[0m\u001b[0m\n\u001b[0m\u001b[1;32m    598\u001b[0m \u001b[0;34m\u001b[0m\u001b[0m\n\u001b[1;32m    599\u001b[0m   \u001b[0;32mif\u001b[0m \u001b[0minspect\u001b[0m\u001b[0;34m.\u001b[0m\u001b[0misfunction\u001b[0m\u001b[0;34m(\u001b[0m\u001b[0mfunc\u001b[0m\u001b[0;34m)\u001b[0m \u001b[0;32mor\u001b[0m \u001b[0minspect\u001b[0m\u001b[0;34m.\u001b[0m\u001b[0mismethod\u001b[0m\u001b[0;34m(\u001b[0m\u001b[0mfunc\u001b[0m\u001b[0;34m)\u001b[0m\u001b[0;34m:\u001b[0m\u001b[0;34m\u001b[0m\u001b[0;34m\u001b[0m\u001b[0m\n",
      "\u001b[0;32m~/thyroid_analysis/.env/lib64/python3.6/site-packages/tensorflow/python/distribute/values_util.py\u001b[0m in \u001b[0;36m<lambda>\u001b[0;34m(var, *a, **kw)\u001b[0m\n\u001b[1;32m    137\u001b[0m \u001b[0;34m\u001b[0m\u001b[0m\n\u001b[1;32m    138\u001b[0m \u001b[0;32mdef\u001b[0m \u001b[0mon_write_assign\u001b[0m\u001b[0;34m(\u001b[0m\u001b[0mvar\u001b[0m\u001b[0;34m,\u001b[0m \u001b[0mvalue\u001b[0m\u001b[0;34m,\u001b[0m \u001b[0muse_locking\u001b[0m\u001b[0;34m=\u001b[0m\u001b[0;32mFalse\u001b[0m\u001b[0;34m,\u001b[0m \u001b[0mname\u001b[0m\u001b[0;34m=\u001b[0m\u001b[0;32mNone\u001b[0m\u001b[0;34m,\u001b[0m \u001b[0mread_value\u001b[0m\u001b[0;34m=\u001b[0m\u001b[0;32mTrue\u001b[0m\u001b[0;34m)\u001b[0m\u001b[0;34m:\u001b[0m\u001b[0;34m\u001b[0m\u001b[0;34m\u001b[0m\u001b[0m\n\u001b[0;32m--> 139\u001b[0;31m   \u001b[0massign_fn\u001b[0m \u001b[0;34m=\u001b[0m \u001b[0;32mlambda\u001b[0m \u001b[0mvar\u001b[0m\u001b[0;34m,\u001b[0m \u001b[0;34m*\u001b[0m\u001b[0ma\u001b[0m\u001b[0;34m,\u001b[0m \u001b[0;34m**\u001b[0m\u001b[0mkw\u001b[0m\u001b[0;34m:\u001b[0m \u001b[0mvar\u001b[0m\u001b[0;34m.\u001b[0m\u001b[0massign\u001b[0m\u001b[0;34m(\u001b[0m\u001b[0;34m*\u001b[0m\u001b[0ma\u001b[0m\u001b[0;34m,\u001b[0m \u001b[0;34m**\u001b[0m\u001b[0mkw\u001b[0m\u001b[0;34m)\u001b[0m\u001b[0;34m\u001b[0m\u001b[0;34m\u001b[0m\u001b[0m\n\u001b[0m\u001b[1;32m    140\u001b[0m   return var._update(  # pylint: disable=protected-access\n\u001b[1;32m    141\u001b[0m       \u001b[0mupdate_fn\u001b[0m\u001b[0;34m=\u001b[0m\u001b[0massign_fn\u001b[0m\u001b[0;34m,\u001b[0m\u001b[0;34m\u001b[0m\u001b[0;34m\u001b[0m\u001b[0m\n",
      "\u001b[0;32m~/thyroid_analysis/.env/lib64/python3.6/site-packages/tensorflow/python/ops/resource_variable_ops.py\u001b[0m in \u001b[0;36massign\u001b[0;34m(self, value, use_locking, name, read_value)\u001b[0m\n\u001b[1;32m    900\u001b[0m             (\"Cannot assign to variable%s due to variable shape %s and value \"\n\u001b[1;32m    901\u001b[0m              \"shape %s are incompatible\") %\n\u001b[0;32m--> 902\u001b[0;31m             (tensor_name, self._shape, value_tensor.shape))\n\u001b[0m\u001b[1;32m    903\u001b[0m       assign_op = gen_resource_variable_ops.assign_variable_op(\n\u001b[1;32m    904\u001b[0m           self.handle, value_tensor, name=name)\n",
      "\u001b[0;31mValueError\u001b[0m: Cannot assign to variable conv1_conv/kernel:0 due to variable shape (7, 7, 1, 64) and value shape (64, 3, 7, 7) are incompatible"
     ]
    }
   ],
   "source": [
    "# gpus = tf.config.list_logical_devices('GPU')\n",
    "strategy = tf.distribute.MirroredStrategy(tf.config.list_logical_devices('GPU'))\n",
    "with strategy.scope():\n",
    "    # fix_gpu()\n",
    "    # Metrics\n",
    "    # mean_iou = tf.keras.metrics.MeanIoU(num_classes=2)\n",
    "    metrics = ['accuracy']\n",
    "    \n",
    "    # model = get_model(model_type, image_input_shape, filter_num)\n",
    "    model = models.transunet_2d((512, 512, 1), filter_num=filter_num, n_labels=1, stack_num_down=2, stack_num_up=2,\n",
    "                            embed_dim=768, num_mlp=3072, num_heads=12, num_transformer=12,\n",
    "                            activation='ReLU', mlp_activation='GELU', output_activation='Sigmoid', backbone='ResNet50')\n",
    "    \n",
    "    # model = tf.keras.models.load_model('output/transunet_2d/samsung/size_256_model_1/model/model', custom_objects=custom_objects)\n",
    "    # print(model.summary())\n",
    "    # model.compile(optimizer=keras.optimizers.SGD(learning_rate=1e-2), loss='binary_crossentropy', metrics=['accuracy'])\n",
    "    # model.compile(optimizer='adam', loss='binary_crossentropy', metrics=['accuracy'])\n",
    "    loss_func = get_loss_function(loss_type=loss_type)\n",
    "    model.compile(optimizer=keras.optimizers.SGD(learning_rate=5e-2), loss=loss_func, metrics=metrics)\n",
    "    # model.compile(optimizer=keras.optimizers.Adam(), loss=loss_func, metrics=metrics)\n",
    "    history = model.fit(train_gen, validation_data=val_gen, epochs=epochs)"
   ]
  },
  {
   "cell_type": "code",
   "execution_count": 29,
   "id": "e64dc5fc-167b-4d9f-a512-05907540cca1",
   "metadata": {},
   "outputs": [
    {
     "name": "stdout",
     "output_type": "stream",
     "text": [
      "Model: \"transunet_model\"\n",
      "__________________________________________________________________________________________________\n",
      "Layer (type)                    Output Shape         Param #     Connected to                     \n",
      "==================================================================================================\n",
      "input_13 (InputLayer)           [(None, 256, 256, 1) 0                                            \n",
      "__________________________________________________________________________________________________\n",
      "transunet_down0_0 (Conv2D)      (None, 256, 256, 64) 576         input_13[0][0]                   \n",
      "__________________________________________________________________________________________________\n",
      "transunet_down0_0_bn (BatchNorm (None, 256, 256, 64) 256         transunet_down0_0[0][0]          \n",
      "__________________________________________________________________________________________________\n",
      "transunet_down0_0_activation (R (None, 256, 256, 64) 0           transunet_down0_0_bn[0][0]       \n",
      "__________________________________________________________________________________________________\n",
      "transunet_down1_encode_maxpool  (None, 128, 128, 64) 0           transunet_down0_0_activation[0][0\n",
      "__________________________________________________________________________________________________\n",
      "transunet_down1_conv_0 (Conv2D) (None, 128, 128, 128 73728       transunet_down1_encode_maxpool[0]\n",
      "__________________________________________________________________________________________________\n",
      "transunet_down1_conv_0_bn (Batc (None, 128, 128, 128 512         transunet_down1_conv_0[0][0]     \n",
      "__________________________________________________________________________________________________\n",
      "transunet_down1_conv_0_activati (None, 128, 128, 128 0           transunet_down1_conv_0_bn[0][0]  \n",
      "__________________________________________________________________________________________________\n",
      "transunet_down2_encode_maxpool  (None, 64, 64, 128)  0           transunet_down1_conv_0_activation\n",
      "__________________________________________________________________________________________________\n",
      "transunet_down2_conv_0 (Conv2D) (None, 64, 64, 256)  294912      transunet_down2_encode_maxpool[0]\n",
      "__________________________________________________________________________________________________\n",
      "transunet_down2_conv_0_bn (Batc (None, 64, 64, 256)  1024        transunet_down2_conv_0[0][0]     \n",
      "__________________________________________________________________________________________________\n",
      "transunet_down2_conv_0_activati (None, 64, 64, 256)  0           transunet_down2_conv_0_bn[0][0]  \n",
      "__________________________________________________________________________________________________\n",
      "transunet_down3_encode_maxpool  (None, 32, 32, 256)  0           transunet_down2_conv_0_activation\n",
      "__________________________________________________________________________________________________\n",
      "transunet_down3_conv_0 (Conv2D) (None, 32, 32, 512)  1179648     transunet_down3_encode_maxpool[0]\n",
      "__________________________________________________________________________________________________\n",
      "transunet_down3_conv_0_bn (Batc (None, 32, 32, 512)  2048        transunet_down3_conv_0[0][0]     \n",
      "__________________________________________________________________________________________________\n",
      "transunet_down3_conv_0_activati (None, 32, 32, 512)  0           transunet_down3_conv_0_bn[0][0]  \n",
      "__________________________________________________________________________________________________\n",
      "transunet_conv_trans_before (Co (None, 32, 32, 512)  262144      transunet_down3_conv_0_activation\n",
      "__________________________________________________________________________________________________\n",
      "patch_extract_12 (patch_extract (None, 1024, 512)    0           transunet_conv_trans_before[0][0]\n",
      "__________________________________________________________________________________________________\n",
      "patch_embedding_12 (patch_embed (None, 1024, 768)    1180416     patch_extract_12[0][0]           \n",
      "__________________________________________________________________________________________________\n",
      "transunet_ViT_0_layer_norm_1 (L (None, 1024, 768)    1536        patch_embedding_12[0][0]         \n",
      "__________________________________________________________________________________________________\n",
      "transunet_ViT_0_atten (MultiHea (None, 1024, 768)    2362368     transunet_ViT_0_layer_norm_1[0][0\n",
      "                                                                 transunet_ViT_0_layer_norm_1[0][0\n",
      "__________________________________________________________________________________________________\n",
      "transunet_ViT_0_skip_1 (Add)    (None, 1024, 768)    0           transunet_ViT_0_atten[0][0]      \n",
      "                                                                 patch_embedding_12[0][0]         \n",
      "__________________________________________________________________________________________________\n",
      "transunet_ViT_0_layer_norm_2 (L (None, 1024, 768)    1536        transunet_ViT_0_skip_1[0][0]     \n",
      "__________________________________________________________________________________________________\n",
      "transunet_ViT_0_mlp_dense_0 (De (None, 1024, 3072)   2362368     transunet_ViT_0_layer_norm_2[0][0\n",
      "__________________________________________________________________________________________________\n",
      "transunet_ViT_0_mlp_activation_ (None, 1024, 3072)   0           transunet_ViT_0_mlp_dense_0[0][0]\n",
      "__________________________________________________________________________________________________\n",
      "transunet_ViT_0_mlp_dense_1 (De (None, 1024, 768)    2360064     transunet_ViT_0_mlp_activation_0[\n",
      "__________________________________________________________________________________________________\n",
      "transunet_ViT_0_mlp_activation_ (None, 1024, 768)    0           transunet_ViT_0_mlp_dense_1[0][0]\n",
      "__________________________________________________________________________________________________\n",
      "transunet_ViT_0_skip_2 (Add)    (None, 1024, 768)    0           transunet_ViT_0_mlp_activation_1[\n",
      "                                                                 transunet_ViT_0_skip_1[0][0]     \n",
      "__________________________________________________________________________________________________\n",
      "tf.reshape_12 (TFOpLambda)      (None, 32, 32, 768)  0           transunet_ViT_0_skip_2[0][0]     \n",
      "__________________________________________________________________________________________________\n",
      "transunet_conv_trans_after (Con (None, 32, 32, 512)  393216      tf.reshape_12[0][0]              \n",
      "__________________________________________________________________________________________________\n",
      "transunet_up0_decode_unpool (Up (None, 64, 64, 512)  0           transunet_conv_trans_after[0][0] \n",
      "__________________________________________________________________________________________________\n",
      "transunet_up0_conv_before_conca (None, 64, 64, 256)  1179648     transunet_up0_decode_unpool[0][0]\n",
      "__________________________________________________________________________________________________\n",
      "transunet_up0_conv_before_conca (None, 64, 64, 256)  1024        transunet_up0_conv_before_concat_\n",
      "__________________________________________________________________________________________________\n",
      "transunet_up0_conv_before_conca (None, 64, 64, 256)  0           transunet_up0_conv_before_concat_\n",
      "__________________________________________________________________________________________________\n",
      "transunet_up0_concat (Concatena (None, 64, 64, 512)  0           transunet_up0_conv_before_concat_\n",
      "                                                                 transunet_down2_conv_0_activation\n",
      "__________________________________________________________________________________________________\n",
      "transunet_up0_conv_after_concat (None, 64, 64, 256)  1179648     transunet_up0_concat[0][0]       \n",
      "__________________________________________________________________________________________________\n",
      "transunet_up0_conv_after_concat (None, 64, 64, 256)  1024        transunet_up0_conv_after_concat_0\n",
      "__________________________________________________________________________________________________\n",
      "transunet_up0_conv_after_concat (None, 64, 64, 256)  0           transunet_up0_conv_after_concat_0\n",
      "__________________________________________________________________________________________________\n",
      "transunet_up1_decode_unpool (Up (None, 128, 128, 256 0           transunet_up0_conv_after_concat_0\n",
      "__________________________________________________________________________________________________\n",
      "transunet_up1_conv_before_conca (None, 128, 128, 128 294912      transunet_up1_decode_unpool[0][0]\n",
      "__________________________________________________________________________________________________\n",
      "transunet_up1_conv_before_conca (None, 128, 128, 128 512         transunet_up1_conv_before_concat_\n",
      "__________________________________________________________________________________________________\n",
      "transunet_up1_conv_before_conca (None, 128, 128, 128 0           transunet_up1_conv_before_concat_\n",
      "__________________________________________________________________________________________________\n",
      "transunet_up1_concat (Concatena (None, 128, 128, 256 0           transunet_up1_conv_before_concat_\n",
      "                                                                 transunet_down1_conv_0_activation\n",
      "__________________________________________________________________________________________________\n",
      "transunet_up1_conv_after_concat (None, 128, 128, 128 294912      transunet_up1_concat[0][0]       \n",
      "__________________________________________________________________________________________________\n",
      "transunet_up1_conv_after_concat (None, 128, 128, 128 512         transunet_up1_conv_after_concat_0\n",
      "__________________________________________________________________________________________________\n",
      "transunet_up1_conv_after_concat (None, 128, 128, 128 0           transunet_up1_conv_after_concat_0\n",
      "__________________________________________________________________________________________________\n",
      "transunet_up2_decode_unpool (Up (None, 256, 256, 128 0           transunet_up1_conv_after_concat_0\n",
      "__________________________________________________________________________________________________\n",
      "transunet_up2_conv_before_conca (None, 256, 256, 64) 73728       transunet_up2_decode_unpool[0][0]\n",
      "__________________________________________________________________________________________________\n",
      "transunet_up2_conv_before_conca (None, 256, 256, 64) 256         transunet_up2_conv_before_concat_\n",
      "__________________________________________________________________________________________________\n",
      "transunet_up2_conv_before_conca (None, 256, 256, 64) 0           transunet_up2_conv_before_concat_\n",
      "__________________________________________________________________________________________________\n",
      "transunet_up2_concat (Concatena (None, 256, 256, 128 0           transunet_up2_conv_before_concat_\n",
      "                                                                 transunet_down0_0_activation[0][0\n",
      "__________________________________________________________________________________________________\n",
      "transunet_up2_conv_after_concat (None, 256, 256, 64) 73728       transunet_up2_concat[0][0]       \n",
      "__________________________________________________________________________________________________\n",
      "transunet_up2_conv_after_concat (None, 256, 256, 64) 256         transunet_up2_conv_after_concat_0\n",
      "__________________________________________________________________________________________________\n",
      "transunet_up2_conv_after_concat (None, 256, 256, 64) 0           transunet_up2_conv_after_concat_0\n",
      "__________________________________________________________________________________________________\n",
      "transunet_output (Conv2D)       (None, 256, 256, 1)  65          transunet_up2_conv_after_concat_0\n",
      "__________________________________________________________________________________________________\n",
      "transunet_output_activation (Ac (None, 256, 256, 1)  0           transunet_output[0][0]           \n",
      "==================================================================================================\n",
      "Total params: 13,576,577\n",
      "Trainable params: 13,572,865\n",
      "Non-trainable params: 3,712\n",
      "__________________________________________________________________________________________________\n"
     ]
    }
   ],
   "source": [
    "model.summary()"
   ]
  },
  {
   "cell_type": "code",
   "execution_count": 27,
   "id": "6fbccdc7-4240-4d03-9e43-196f72f85f2a",
   "metadata": {},
   "outputs": [],
   "source": [
    "images, masks = val_gen.__getitem__(0, augment=True)"
   ]
  },
  {
   "cell_type": "code",
   "execution_count": 28,
   "id": "c0e66dd4-8ec3-4074-942d-8300f7961001",
   "metadata": {},
   "outputs": [
    {
     "data": {
      "text/plain": [
       "(2, 256, 256, 1)"
      ]
     },
     "execution_count": 28,
     "metadata": {},
     "output_type": "execute_result"
    }
   ],
   "source": [
    "images.shape"
   ]
  },
  {
   "cell_type": "code",
   "execution_count": 30,
   "id": "9872f830-4a44-4196-b264-7594f79a683b",
   "metadata": {},
   "outputs": [],
   "source": [
    "# model.summary()"
   ]
  }
 ],
 "metadata": {
  "kernelspec": {
   "display_name": ".env",
   "language": "python",
   "name": ".env"
  },
  "language_info": {
   "codemirror_mode": {
    "name": "ipython",
    "version": 3
   },
   "file_extension": ".py",
   "mimetype": "text/x-python",
   "name": "python",
   "nbconvert_exporter": "python",
   "pygments_lexer": "ipython3",
   "version": "3.6.8"
  }
 },
 "nbformat": 4,
 "nbformat_minor": 5
}
