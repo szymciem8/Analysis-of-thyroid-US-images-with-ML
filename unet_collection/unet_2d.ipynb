{
 "cells": [
  {
   "cell_type": "code",
   "execution_count": 1,
   "id": "35b0a5a7-f3cd-4f40-bc9b-3a0bbaa2f420",
   "metadata": {},
   "outputs": [],
   "source": [
    "import boto3"
   ]
  },
  {
   "cell_type": "code",
   "execution_count": 5,
   "id": "46db361b-e6ee-4392-b723-669cde5948df",
   "metadata": {},
   "outputs": [],
   "source": []
  },
  {
   "cell_type": "code",
   "execution_count": 8,
   "id": "3069afae-7109-4884-89a6-3686be2bce74",
   "metadata": {},
   "outputs": [
    {
     "name": "stdout",
     "output_type": "stream",
     "text": [
      "cdk-hnb659fds-assets-727507455907-eu-central-1\n",
      "databricks-workspace-stack-lambdazipsbucket-xx3ubhnpz1c7\n",
      "db-57a2f5925b59d674c395fe52c1367650-s3-root-bucket\n",
      "iot-simulator-datalake\n",
      "sagemaker-eu-central-1-727507455907\n",
      "sagemaker-studio-727507455907-funq3p84oed\n",
      "szymciemsdatasets\n",
      "thyroid-analysis\n"
     ]
    }
   ],
   "source": [
    "# Print out bucket names\n",
    "for bucket in s3.buckets.all():\n",
    "    print(bucket.name)\n",
    "    \n",
    "# cheez-willikers\n"
   ]
  },
  {
   "cell_type": "code",
   "execution_count": null,
   "id": "e85347eb-1d60-4e2e-98bd-0e581b6ba267",
   "metadata": {},
   "outputs": [],
   "source": [
    "import boto3\n",
    "import tempfile\n",
    "from dotenv import dotenv_values\n",
    "\n",
    "class ThyroidAnalysisS3:\n",
    "    \n",
    "    def __init__(self, config_path):\n",
    "        \n",
    "        config = dotenv_values(config_path)\n",
    "        \n",
    "        self.s3_resources = boto3.resource(\n",
    "            service_name='s3',\n",
    "            region_name='eu-central-1',\n",
    "            aws_access_key_id=config['ACCESS_KEY'],\n",
    "            aws_secret_access_key=['SECRET_ACCESS_KEY']\n",
    "        )\n",
    "        \n",
    "        self.s3 = self.s3_resources.Bucket(name='thyroid-analysis')\n",
    "        \n",
    "        \n",
    "    def save_file(self, file):\n",
    "        pass\n",
    "    \n",
    "    \n",
    "    def save_tf_model(self, model):\n",
    "        pass\n",
    "    \n",
    "    \n",
    "    def load_tf_model(self)\n",
    "        pass"
   ]
  }
 ],
 "metadata": {
  "kernelspec": {
   "display_name": "Python 3 (ipykernel)",
   "language": "python",
   "name": "python3"
  },
  "language_info": {
   "codemirror_mode": {
    "name": "ipython",
    "version": 3
   },
   "file_extension": ".py",
   "mimetype": "text/x-python",
   "name": "python",
   "nbconvert_exporter": "python",
   "pygments_lexer": "ipython3",
   "version": "3.9.13"
  }
 },
 "nbformat": 4,
 "nbformat_minor": 5
}
